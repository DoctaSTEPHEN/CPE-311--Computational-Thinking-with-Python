{
  "nbformat": 4,
  "nbformat_minor": 0,
  "metadata": {
    "colab": {
      "provenance": []
    },
    "kernelspec": {
      "name": "python3",
      "display_name": "Python 3"
    },
    "language_info": {
      "name": "python"
    }
  },
  "cells": [
    {
      "cell_type": "markdown",
      "source": [
        "#Greedy Algorithm\n",
        "Assume that you have an objective function that needs to be optimized (either maximized or minimized) at a given point. A Greedy algorithm makes greedy choices at each step to ensure that the objective function is optimized. The Greedy algorithm has only one shot to compute the optimal solution so that it never goes back and reverses the decision.\n",
        "\n",
        "##When to Use Greedy Algorithms\n",
        "Greedy Algorithms can help you find solutions to a lot of seemingly tough problems. The only problem with them is that you might come up with the correct solution but you might not be able to verify if its the correct one. All the greedy problems share a common property that a local optima can eventually lead to a global minima without reconsidering the set of choices already considered.\n",
        "\n",
        "###Sample Problems:\n",
        "1. Lecture Scheduling Problem\n",
        "2. Student Enrollment Problem"
      ],
      "metadata": {
        "id": "n0iTchcu2twI"
      }
    },
    {
      "cell_type": "markdown",
      "source": [
        "#Brute Force Algorithm\n",
        "Brute Force Algorithms are exactly what they sound like – straightforward methods of solving a problem that rely on sheer computing power and trying every possibility rather than advanced techniques to improve efficiency. For example, imagine you have a small padlock with 4 digits, each from 0-9.\n",
        "\n",
        "###Sample Problems:\n",
        "- Solve the same given problems using Brute Force algorithm."
      ],
      "metadata": {
        "id": "Ex0cdeur3s5_"
      }
    },
    {
      "cell_type": "markdown",
      "source": [
        "#Dynamic Programming\n",
        "Dynamic Programming(DP) is an algorithmic technique for solving an optimization problem by breaking it down into simpler subproblems and utilizing the fact that the optimal solution to the overall problem depends upon the optimal solution to the subproblems."
      ],
      "metadata": {
        "id": "tAdnaN3y27iH"
      }
    },
    {
      "cell_type": "markdown",
      "source": [
        "###Top-Down Approach with Memoization\n",
        "Whenever we solve a subproblem, we cache its result so that we don’t end up solving it repeatedly if it’s called multiple times. This technique of storing the results of the previously solved subproblems is called Memoization.\n",
        "\n",
        "In memoization, we solve the bigger problem by recursively finding the solution to the subproblems. It is a top-down approach."
      ],
      "metadata": {
        "id": "NyDGniz3LZjk"
      }
    },
    {
      "cell_type": "code",
      "source": [
        "#Implementation of Fibonacci Series using Memoization\n",
        "\"\"\" The Fibonacci Series is a series of numbers in which each number\n",
        "    is the sum of the preceding two numbers.\n",
        "    By definition, the first two numbers are 0 and 1.\n",
        "\n",
        "    Implement with the following steps:\n",
        "    - Declare function with parameters: Number N and Dictionary Memo.\n",
        "    - If n equals 1, return 0\n",
        "    - If n equals 2, return 1\n",
        "    - If current element is not in memo, add to memoy by recursive call for previous function and add. \"\"\"\n",
        "\n",
        "\n",
        "#Implementation of Fibonacci of a number N using Memoization\n",
        "def FibMemo(N, memo = {}):\n",
        "    if N <= 1:\n",
        "        return N\n",
        "    try:\n",
        "        return memo[N]\n",
        "    except:\n",
        "        result = FibMemo(N-1, memo) + FibMemo(N-2, memo)\n",
        "        memo[N] = result\n",
        "    return memo[N]\n",
        "\n",
        "memo = {}\n",
        "print(FibMemo(6,memo))"
      ],
      "metadata": {
        "id": "8_TsrouUJQSF",
        "colab": {
          "base_uri": "https://localhost:8080/",
          "height": 0
        },
        "outputId": "45c61fe0-0d2d-4c03-c28e-d878068f6df9"
      },
      "execution_count": 180,
      "outputs": [
        {
          "output_type": "stream",
          "name": "stdout",
          "text": [
            "8\n"
          ]
        }
      ]
    },
    {
      "cell_type": "code",
      "source": [
        "#Implementation of Factorial of a number N using Memoization\n",
        "def FactMemo(N, memo = {}):\n",
        "    if N == 1:\n",
        "        return N\n",
        "    try:\n",
        "        return memo[N]\n",
        "    except:\n",
        "        result = N * FactMemo(N-1, memo)\n",
        "        memo[N] = result\n",
        "    return memo[N]\n",
        "\n",
        "memo = {}\n",
        "print(FactMemo(6,memo))"
      ],
      "metadata": {
        "id": "oUBtAfnlnbU-",
        "colab": {
          "base_uri": "https://localhost:8080/",
          "height": 0
        },
        "outputId": "de34d582-4f69-4723-dbb9-d96071df5cc4"
      },
      "execution_count": 181,
      "outputs": [
        {
          "output_type": "stream",
          "name": "stdout",
          "text": [
            "720\n"
          ]
        }
      ]
    },
    {
      "cell_type": "markdown",
      "source": [
        "###Bottom-Up Approach with Tabulation\n",
        "Tabulation is the opposite of the top-down approach and does not involve recursion. In this approach, we solve the problem “bottom-up”. This means that the subproblems are solved first and are then combined to form the solution to the original problem.\n",
        "\n",
        "This is achieved by filling up a table. Based on the results of the table, the solution to the original problem is computed."
      ],
      "metadata": {
        "id": "NrcB-ztP9ZPI"
      }
    },
    {
      "cell_type": "code",
      "source": [
        "#Implementation of Fibonacci Series using Tabulation\n",
        "\"\"\" Fibonacci Series can be implemented using Tabulation using the following steps:\n",
        "    - Declare the function and take the number whose Fibonacci Series is to be printed.\n",
        "    - Initialize the list and input the values 0 and 1 in it.\n",
        "    - Iterate over the range of 2 to n+1.\n",
        "    - Append the list with the sum of the previous two values of the list.\n",
        "    - Return the list as output. \"\"\"\n",
        "\n",
        "#Implementation of Fibonacci of a number N using Tabulation\n",
        "def FibTab(Num):\n",
        "    val = [0, 1]\n",
        "    for i in range (2, Num+1):\n",
        "        val.append(val[i-2] + val[i-1])\n",
        "    return val\n",
        "\n",
        "print(FibTab(6))"
      ],
      "metadata": {
        "id": "Skjbt78O9ele",
        "colab": {
          "base_uri": "https://localhost:8080/",
          "height": 0
        },
        "outputId": "2d2c6118-3cd1-46cd-8e35-a0d35d8ca359"
      },
      "execution_count": 182,
      "outputs": [
        {
          "output_type": "stream",
          "name": "stdout",
          "text": [
            "[0, 1, 1, 2, 3, 5, 8]\n"
          ]
        }
      ]
    },
    {
      "cell_type": "code",
      "source": [
        "#Implementation of Factorial of a number N using Tabulation\n",
        "def FactTab(Num):\n",
        "    val = [1]\n",
        "    for i in range (1, Num):\n",
        "        val.append(val[i-1] * (i+1) )\n",
        "    return val\n",
        "\n",
        "print(FactTab(6))"
      ],
      "metadata": {
        "colab": {
          "base_uri": "https://localhost:8080/",
          "height": 0
        },
        "id": "IorpQDfBaMU_",
        "outputId": "340d29d7-4e9b-4ee4-d64b-de879c50bf2a"
      },
      "execution_count": 183,
      "outputs": [
        {
          "output_type": "stream",
          "name": "stdout",
          "text": [
            "[1, 2, 6, 24, 120, 720]\n"
          ]
        }
      ]
    },
    {
      "cell_type": "code",
      "source": [
        "#Lecture Scheduling Problem\n",
        "#Greedy Method\n",
        "\"\"\" You are given a set of N schedules.\n",
        "    Schedule will be defined with: course code, units, start, duration.\n",
        "    Select the maximum set of lectures to be held.\n",
        "    No schedules must overlap\n",
        "    -Using 24 hour format\n",
        "    - Time will be written as 7:30 = 750 or 24:00 = 2400\n",
        "\"\"\"\n",
        "\n",
        "#Class  that stores details of each courses\n",
        "class Course():\n",
        "    def __init__(self, course_code, units, start, duration):\n",
        "        self.course_code = course_code\n",
        "        self.units = units\n",
        "        self.start = start\n",
        "        self.duration = duration\n",
        "    #get the end of the class hour based on the starting time and duration\n",
        "    def getEnd(self):\n",
        "        return self.start + self.duration"
      ],
      "metadata": {
        "id": "KlXzL8bpsFX_"
      },
      "execution_count": 184,
      "outputs": []
    },
    {
      "cell_type": "code",
      "source": [
        "#function that sets the optimal schedule to maximize the given starting hour and its end\n",
        "def SchedPlanning(start, end, courses, n, classList):\n",
        "    #check  if there is an entered course\n",
        "    if n == 0:\n",
        "        return classList\n",
        "\n",
        "    #check if the courses schedule is within the range of the given beginning and end of class\n",
        "    if courses[n-1].duration +  courses[n-1].start > end or courses[n-1].start < start:\n",
        "        return SchedPlanning(start, end, courses, n-1, classList)\n",
        "\n",
        "    #if there is no courses scheduled yet insert the first one\n",
        "    elif classList == []:\n",
        "        classList.append(courses[n-1])\n",
        "        return SchedPlanning(start, end, courses, n-1, classList)\n",
        "\n",
        "    else:\n",
        "        #iterates classList to access each elements\n",
        "        for i in classList:\n",
        "            #check if the currently checked course has conflict with the previously entered course\n",
        "            if i.start <= courses[n-1].start and i.getEnd() >= courses[n-1].getEnd():\n",
        "                return SchedPlanning(start, end, courses, n-1, classList)\n",
        "\n",
        "            else:\n",
        "                classList.append(courses[n-1])\n",
        "                return SchedPlanning(start, end, courses, n-1, classList)"
      ],
      "metadata": {
        "id": "7O29zn0ZYuQs"
      },
      "execution_count": 185,
      "outputs": []
    },
    {
      "cell_type": "code",
      "source": [
        "#Scheduling test\n",
        "CAO = Course(\"CPE 021A\", 1, 1050, 500)\n",
        "NM = Course(\"MATH 020\", 3, 1350, 500)\n",
        "OT = Course(\"CPE 015A\", 3, 1650, 100)\n",
        "RPH = Course(\"GEC 002\", 3, 750, 150)\n",
        "PE4 = Course(\"PE 004   \", 2, 950, 200)\n",
        "ComNet = Course(\"CPE 302\", 3, 1150, 200)\n",
        "DBMS = Course(\"CPE 011A\", 2, 1350, 300)\n",
        "LCD = Course(\"CPE 013\", 4, 1350, 300)\n",
        "\n",
        "Courses = [CAO, NM, OT, RPH, PE4, ComNet, DBMS, LCD]\n",
        "n = len(Courses)\n",
        "Schedule = []\n",
        "SchedPlanning(750, 1750, Courses, n, Schedule)\n",
        "print(\"Course Code \\t|\\tStart \\t|\\t End\")\n",
        "for i in Schedule:\n",
        "    print(i.course_code, \"\\t|\\t\", i.start, \"\\t|\\t\", i.getEnd())\n",
        "print('----------------+---------------+----------------')\n",
        "print('Total class hour: ', min([i.start for i in Schedule]), '-', max([i.getEnd() for i in Schedule]))\n"
      ],
      "metadata": {
        "colab": {
          "base_uri": "https://localhost:8080/",
          "height": 0
        },
        "id": "qlFkQ2mlQKwE",
        "outputId": "8d9e7a6a-5e7e-4d88-9e10-1fe88a63c469"
      },
      "execution_count": 187,
      "outputs": [
        {
          "output_type": "stream",
          "name": "stdout",
          "text": [
            "Course Code \t|\tStart \t|\t End\n",
            "CPE 013 \t|\t 1350 \t|\t 1650\n",
            "CPE 302 \t|\t 1150 \t|\t 1350\n",
            "PE 004    \t|\t 950 \t|\t 1150\n",
            "GEC 002 \t|\t 750 \t|\t 900\n",
            "CPE 015A \t|\t 1650 \t|\t 1750\n",
            "CPE 021A \t|\t 1050 \t|\t 1550\n",
            "----------------+---------------+----------------\n",
            "Total class hour:  750 - 1750\n"
          ]
        }
      ]
    },
    {
      "cell_type": "code",
      "source": [
        "#Student Enrollment Problem\n",
        "#Greedy Method\n",
        "\"\"\" You are given a set of N courses.\n",
        "    Courses will be defined as (code, units).\n",
        "    Select the maximum set of courses a student can hve.\n",
        "    Maximum units allowed is based on input with a max of 24\n",
        "    default of 18. \"\"\"\n",
        "\n",
        "#Function that arranges the units in the list of courses increasingly\n",
        "def unitArrange(Courses):\n",
        "    course_units = [(course, course.units) for course in Courses]\n",
        "    course_units.sort(key=lambda item: item[1])\n",
        "    Arranged = [course for course, unit in course_units]\n",
        "    return Arranged\n",
        "\n",
        "#Function that returns the optimal courses to enroll to get maximum amount of units\n",
        "def Enrollment(Courses, n, courseCatalog, maxUnit = 18, unitCount = 0):\n",
        "    Courses = unitArrange(Courses)\n",
        "\n",
        "    if n  == 0 or unit > 24:\n",
        "        return courseCatalog\n",
        "\n",
        "    #check if the previously added courses to enroll would exceed the maximum unit\n",
        "    elif unitCount + Courses[n-1].units <= maxUnit:\n",
        "        courseCatalog.append(Courses[n-1])\n",
        "        unitCount = unitCount + Courses[n-1].units\n",
        "    return Enrollment(Courses, n-1, courseCatalog, maxUnit, unitCount)\n",
        "\n",
        "def diplay(courseCatalog):\n",
        "    if courseCatalog != []:\n",
        "        print(\"Course Code \\t|\\t Units\")\n",
        "        for i in courseCatalog:\n",
        "            print(i.course_code, \"\\t|\\t\", i.units)\n",
        "        print('----------------+----------------')\n",
        "        print(\"Total Units: \", sum([i.units for i in courseCatalog]))\n",
        "    else:\n",
        "        print('Overload Unit unavailable')"
      ],
      "metadata": {
        "id": "umMwOBlq4eAP"
      },
      "execution_count": 173,
      "outputs": []
    },
    {
      "cell_type": "code",
      "source": [
        "#Enrollment Test\n",
        "CAO = Course(\"CPE 021A\", 1, 1050, 500)\n",
        "NM = Course(\"MATH 020\", 3, 1350, 500)\n",
        "OT = Course(\"CPE 015A\", 3, 1650, 100)\n",
        "RPH = Course(\"GEC 002\", 3, 750, 150)\n",
        "PE4 = Course(\"PE 004   \", 2, 950, 200)\n",
        "ComNet = Course(\"CPE 302\", 3, 1150, 200)\n",
        "DBMS = Course(\"CPE 011A\", 2, 1350, 300)\n",
        "LCD = Course(\"CPE 013\", 4, 1350, 300)\n",
        "\n",
        "Courses = [CAO, NM, OT, RPH, PE4, ComNet, DBMS, LCD]\n",
        "n = len(Courses)\n",
        "courseCatalog = []\n",
        "unit = 15\n",
        "Enrollment(Courses, n, courseCatalog, unit)\n",
        "diplay(courseCatalog)"
      ],
      "metadata": {
        "colab": {
          "base_uri": "https://localhost:8080/",
          "height": 0
        },
        "id": "I2KhJ9vc8xW2",
        "outputId": "79b95c3d-9d69-4d7b-ce62-1fe60f34f35b"
      },
      "execution_count": 188,
      "outputs": [
        {
          "output_type": "stream",
          "name": "stdout",
          "text": [
            "Course Code \t|\t Units\n",
            "CPE 013 \t|\t 4\n",
            "CPE 302 \t|\t 3\n",
            "GEC 002 \t|\t 3\n",
            "CPE 015A \t|\t 3\n",
            "CPE 011A \t|\t 2\n",
            "----------------+----------------\n",
            "Total Units:  15\n"
          ]
        }
      ]
    }
  ]
}