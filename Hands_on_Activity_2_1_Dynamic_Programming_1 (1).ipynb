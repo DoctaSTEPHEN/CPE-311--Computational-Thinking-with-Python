{
  "cells": [
    {
      "cell_type": "markdown",
      "id": "f1c6ec95",
      "metadata": {
        "id": "f1c6ec95"
      },
      "source": [
        "# Hands-on Activity 2.1 : Dynamic Programming"
      ]
    },
    {
      "cell_type": "markdown",
      "id": "56dacba1",
      "metadata": {
        "id": "56dacba1"
      },
      "source": [
        "#### Objective(s):\n",
        "\n",
        "This activity aims to demonstrate how to use dynamic programming to solve problems."
      ]
    },
    {
      "cell_type": "markdown",
      "id": "e51f84e3",
      "metadata": {
        "id": "e51f84e3"
      },
      "source": [
        "#### Intended Learning Outcomes (ILOs):\n",
        "* Differentiate recursion method from dynamic programming to solve problems.\n",
        "* Demonstrate how to  solve real-world problems using dynamic programming\n"
      ]
    },
    {
      "cell_type": "markdown",
      "id": "39047b1a",
      "metadata": {
        "id": "39047b1a"
      },
      "source": [
        "#### Resources:\n",
        "* Jupyter Notebook\n"
      ]
    },
    {
      "cell_type": "markdown",
      "id": "cb5360c0",
      "metadata": {
        "id": "cb5360c0"
      },
      "source": [
        "#### Procedures:"
      ]
    },
    {
      "cell_type": "markdown",
      "id": "206a914c",
      "metadata": {
        "id": "206a914c"
      },
      "source": [
        "1. Create a code that demonstrate how to use recursion method to solve problem"
      ]
    },
    {
      "cell_type": "markdown",
      "id": "5744a876",
      "metadata": {
        "id": "5744a876"
      },
      "source": [
        "2. Create a program codes that demonstrate how to use dynamic programming to solve the same problem"
      ]
    },
    {
      "cell_type": "markdown",
      "id": "8e3f6572",
      "metadata": {
        "id": "8e3f6572"
      },
      "source": [
        "##### Question:\n",
        "Explain the difference of using the recursion from dynamic programming using the given sample codes to solve the same problem\n",
        "\n",
        "*   **\n",
        "\n",
        "\n"
      ]
    },
    {
      "cell_type": "markdown",
      "id": "b5a71b53",
      "metadata": {
        "id": "b5a71b53"
      },
      "source": [
        "Type your answer here:<br>\n",
        "\n",
        "\n",
        "*   From the given code, I've noticed that in recursion the program call on itself repeatedly to solves all possible combination and excluding items that exceed the capacity available. While the Dynamic programming check possible combinations through looping, and then store it in the 2D list to avoid computing for combinations repeatedly. In my opinion dynamic programming would be the best approach to this as it avoids redundancy.\n",
        "\n",
        "\n",
        "\n",
        "\n",
        "\n"
      ]
    },
    {
      "cell_type": "markdown",
      "id": "60074702",
      "metadata": {
        "id": "60074702"
      },
      "source": [
        "3. Create a sample program codes to simulate bottom-up dynamic programming"
      ]
    },
    {
      "cell_type": "markdown",
      "id": "e629eb89",
      "metadata": {
        "id": "e629eb89"
      },
      "source": [
        "4. Create a sample program codes that simulate tops-down dynamic programming"
      ]
    },
    {
      "cell_type": "markdown",
      "id": "c2e2434c",
      "metadata": {
        "id": "c2e2434c"
      },
      "source": [
        "#### Question:\n",
        " Explain the difference between bottom-up from top-down dynamic programming using the given sample codes"
      ]
    },
    {
      "cell_type": "markdown",
      "id": "ac97e063",
      "metadata": {
        "id": "ac97e063"
      },
      "source": [
        "Type your answer here:<br>\n",
        "\n",
        "\n",
        "*   As I've answered previously the dynamic for bottom-up check possible combinations through looping, and then store it in the 2D list to avoid computing for combinations repeatedly. Meanwhile top-down approach in this programm utilizes recursion and storing in a 2d list, which improves the first programm as it avoids recomputation.\n",
        "\n",
        "\n",
        "\n",
        "\n",
        "\n",
        "\n",
        "\n"
      ]
    },
    {
      "cell_type": "markdown",
      "id": "f7a5bfbd",
      "metadata": {
        "id": "f7a5bfbd"
      },
      "source": [
        "0/1 Knapsack Problem\n",
        "\n",
        "* Analyze three different techniques to solve knapsacks problem\n",
        "1. Recursion\n",
        "2. Dynamic Programming\n",
        "3. Memoization"
      ]
    },
    {
      "cell_type": "code",
      "source": [
        "#sample code for knapsack problem using recursion\n",
        "def rec_knapSack(w, wt, val, n):\n",
        "\n",
        "  #base case\n",
        "  #defined as nth item is empty;\n",
        "  #or the capacity w is 0\n",
        "  if n == 0 or w == 0:\n",
        "    return 0\n",
        "\n",
        "  #if weight of the nth item is more than\n",
        "  #the capacity W, then this item cannot be included\n",
        "  #as part of the optimal solution\n",
        "  if(wt[n-1] > w):\n",
        "    return rec_knapSack(w, wt, val, n-1)\n",
        "\n",
        "  #return the maximum of the two cases:\n",
        "  # (1) include the nth item\n",
        "  # (2) don't include the nth item\n",
        "  else:\n",
        "    return max(\n",
        "        val[n-1] + rec_knapSack(\n",
        "            w-wt[n-1], wt, val, n-1),\n",
        "            rec_knapSack(w, wt, val, n-1)\n",
        "    )"
      ],
      "metadata": {
        "id": "15SVHF85_1Ji"
      },
      "id": "15SVHF85_1Ji",
      "execution_count": null,
      "outputs": []
    },
    {
      "cell_type": "code",
      "source": [
        "#To test:\n",
        "val = [60, 100, 120] #values for the items\n",
        "wt = [10, 20, 30] #weight of the items\n",
        "w = 50 #knapsack weight capacity\n",
        "n = len(val) #number of items\n",
        "\n",
        "rec_knapSack(w, wt, val, n)"
      ],
      "metadata": {
        "colab": {
          "base_uri": "https://localhost:8080/"
        },
        "id": "b1D3YRJ7cMqU",
        "outputId": "0df59ce4-1aed-457d-f0d2-fd6cededc228"
      },
      "id": "b1D3YRJ7cMqU",
      "execution_count": null,
      "outputs": [
        {
          "output_type": "execute_result",
          "data": {
            "text/plain": [
              "220"
            ]
          },
          "metadata": {},
          "execution_count": 4
        }
      ]
    },
    {
      "cell_type": "code",
      "source": [
        "#Dynamic Programming for the Knapsack Problem\n",
        "def DP_knapSack(w, wt, val, n):\n",
        "  #create the table\n",
        "  table = [[0 for x in range(w+1)] for x in range (n+1)]\n",
        "\n",
        "  #populate the table in a bottom-up approach\n",
        "  for i in range(n+1):\n",
        "    for w in range(w+1):\n",
        "      if i == 0 or w == 0:\n",
        "        table[i][w] = 0\n",
        "      elif wt[i-1] <= w:\n",
        "        table[i][w] = max(val[i-1] + table[i-1][w-wt[i-1]],\n",
        "                          table[i-1][w])\n",
        "  return table[n][w]"
      ],
      "metadata": {
        "id": "A8OU1sUJ_1ES"
      },
      "id": "A8OU1sUJ_1ES",
      "execution_count": null,
      "outputs": []
    },
    {
      "cell_type": "code",
      "source": [
        "#To test:\n",
        "val = [60, 100, 120]\n",
        "wt = [10, 20, 30]\n",
        "w = 50\n",
        "n = len(val)\n",
        "\n",
        "DP_knapSack(w, wt, val, n)"
      ],
      "metadata": {
        "colab": {
          "base_uri": "https://localhost:8080/"
        },
        "id": "GUNeEPHrd-N1",
        "outputId": "4829e602-248b-48f8-cbd3-e75c4d87d3b6"
      },
      "id": "GUNeEPHrd-N1",
      "execution_count": null,
      "outputs": [
        {
          "output_type": "execute_result",
          "data": {
            "text/plain": [
              "220"
            ]
          },
          "metadata": {},
          "execution_count": 29
        }
      ]
    },
    {
      "cell_type": "code",
      "source": [
        "#Sample for top-down DP approach (memoization)\n",
        "#initialize the list of items\n",
        "val = [60, 100, 120]\n",
        "wt = [10, 20, 30]\n",
        "w = 50\n",
        "n = len(val)\n",
        "\n",
        "#initialize the container for the values that have to be stored\n",
        "#values are initialized to -1\n",
        "calc =[[-1 for i in range(w+1)] for j in range(n+1)]\n",
        "\n",
        "\n",
        "def mem_knapSack(wt, val, w, n):\n",
        "  #base conditions\n",
        "  if n == 0 or w == 0:\n",
        "    return 0\n",
        "  if calc[n][w] != -1:\n",
        "    return calc[n][w]\n",
        "\n",
        "  #compute for the other cases\n",
        "  if wt[n-1] <= w:\n",
        "    calc[n][w] = max(val[n-1] + mem_knapSack(wt, val, w-wt[n-1], n-1),\n",
        "                     mem_knapSack(wt, val, w, n-1))\n",
        "    return calc[n][w]\n",
        "  elif wt[n-1] > w:\n",
        "    calc[n][w] = mem_knapSack(wt, val, w, n-1)\n",
        "    return calc[n][w]\n",
        "\n",
        "mem_knapSack(wt, val, w, n)"
      ],
      "metadata": {
        "id": "VgwTX-XT_0_h",
        "colab": {
          "base_uri": "https://localhost:8080/"
        },
        "outputId": "b3ea7e74-e35d-43f5-a1e3-be74c4512411"
      },
      "id": "VgwTX-XT_0_h",
      "execution_count": null,
      "outputs": [
        {
          "output_type": "execute_result",
          "data": {
            "text/plain": [
              "220"
            ]
          },
          "metadata": {},
          "execution_count": 6
        }
      ]
    },
    {
      "cell_type": "markdown",
      "source": [
        "Comaparing top-down and bottom-up approach in this programm, I've observed that"
      ],
      "metadata": {
        "id": "yVExaf39Eq0J"
      },
      "id": "yVExaf39Eq0J"
    },
    {
      "cell_type": "markdown",
      "source": [
        "**Code Analysis**\n",
        "\n",
        "Type your answer here."
      ],
      "metadata": {
        "id": "-UXSSblDcF8T"
      },
      "id": "-UXSSblDcF8T"
    },
    {
      "cell_type": "markdown",
      "source": [
        "## Seatwork 2.1"
      ],
      "metadata": {
        "id": "IGsdUGCUcTFd"
      },
      "id": "IGsdUGCUcTFd"
    },
    {
      "cell_type": "markdown",
      "id": "0462053d",
      "metadata": {
        "id": "0462053d"
      },
      "source": [
        "Task 1: Modify the three techniques to include additional criterion in the knapsack problems"
      ]
    },
    {
      "cell_type": "code",
      "execution_count": null,
      "id": "ed2f6186",
      "metadata": {
        "id": "ed2f6186",
        "colab": {
          "base_uri": "https://localhost:8080/"
        },
        "outputId": "94d09f72-e32b-4462-c97d-e7347322af9a"
      },
      "outputs": [
        {
          "output_type": "stream",
          "name": "stdout",
          "text": [
            "Recursion\n",
            "Maximum Value: 180\n",
            "Total length: 200\n",
            "\n",
            "Dynamic Programming\n",
            "Maximum Value: 180\n",
            "Total length: 200\n",
            "\n",
            "Memoization\n",
            "Maximum Value: 180\n",
            "Total length: 200\n"
          ]
        }
      ],
      "source": [
        "#type your code here\n",
        "#Recursion\n",
        "def rec_knapSack(w, wt, length, val, n):\n",
        "    if n == 0 or w == 0:\n",
        "        return (0, 0)\n",
        "\n",
        "    if wt[n - 1] > w:\n",
        "        return rec_knapSack(w, wt, length, val, n - 1)\n",
        "\n",
        "    else:\n",
        "        take_value, take_length = rec_knapSack(w - wt[n - 1], wt, length, val, n - 1)\n",
        "        not_take_value, not_take_length = rec_knapSack(w, wt, length, val, n - 1)\n",
        "\n",
        "        if val[n - 1] + take_value > not_take_value:\n",
        "            return (val[n - 1] + take_value, length[n - 1] + take_length)\n",
        "        elif val[n - 1] + take_value == not_take_value:\n",
        "            return (not_take_value, min(length[n - 1] + take_length, not_take_length))\n",
        "        else:\n",
        "            return (not_take_value, not_take_length)\n",
        "\n",
        "\n",
        "\n",
        "\n",
        "#Dynamic\n",
        "def DP_knapSack(w, wt, length, val, n):\n",
        "    table = [[0 for _ in range(w+1)] for _ in range(n+1)]\n",
        "    table2 = [[0 for _ in range(w+1)] for _ in range(n+1)]\n",
        "\n",
        "    for i in range(n+1):\n",
        "        for curr_w in range(w+1):\n",
        "            if i == 0 or curr_w == 0:\n",
        "                table[i][curr_w] = 0\n",
        "                table2[i][curr_w] = 0\n",
        "            elif wt[i-1] <= curr_w:\n",
        "                table[i][curr_w] = max(val[i-1] + table[i-1][curr_w-wt[i-1]],\n",
        "                                       table[i-1][curr_w])\n",
        "                table2[i][curr_w] = max(length[i-1] + table2[i-1][curr_w-wt[i-1]],\n",
        "                                        table2[i-1][curr_w])\n",
        "            else:\n",
        "                table[i][curr_w] = table[i-1][curr_w]\n",
        "                table2[i][curr_w] = table2[i-1][curr_w]\n",
        "\n",
        "    return table[n][w], table2[n][w]\n",
        "\n",
        "\n",
        "\n",
        "#Memoization\n",
        "calc_val = [[-1 for _ in range(w + 1)] for _ in range(n + 1)]\n",
        "calc_length = [[-1 for _ in range(w + 1)] for _ in range(n + 1)]\n",
        "\n",
        "def mem_knapSack(wt, val, length, w, n):\n",
        "    if n == 0 or w == 0:\n",
        "        return 0, 0\n",
        "\n",
        "    if calc_val[n][w] != -1:\n",
        "        return calc_val[n][w], calc_length[n][w]\n",
        "\n",
        "    if wt[n - 1] <= w:\n",
        "        included_val, included_length = mem_knapSack(wt, val, length, w - wt[n - 1], n - 1)\n",
        "        excluded_val, excluded_length = mem_knapSack(wt, val, length, w, n - 1)\n",
        "\n",
        "        if val[n - 1] + included_val > excluded_val:\n",
        "            calc_val[n][w] = val[n - 1] + included_val\n",
        "            calc_length[n][w] = length[n - 1] + included_length\n",
        "        else:\n",
        "            calc_val[n][w] = excluded_val\n",
        "            calc_length[n][w] = excluded_length\n",
        "    else:\n",
        "        calc_val[n][w], calc_length[n][w] = mem_knapSack(wt, val, length, w, n - 1)\n",
        "\n",
        "    return calc_val[n][w], calc_length[n][w]\n",
        "\n",
        "\n",
        "val = [60, 100, 120]\n",
        "wt = [10, 20, 30]\n",
        "length = [40, 80, 160]\n",
        "w = 40\n",
        "n = len(val)\n",
        "\n",
        "print(\"Recursion\")\n",
        "max_value, total_length = rec_knapSack(w, wt, length, val, n)\n",
        "print(\"Maximum Value:\", max_value)\n",
        "print(\"Total length:\", total_length)\n",
        "\n",
        "print(\"\\nDynamic Programming\")\n",
        "max_value, total_length = DP_knapSack(w, wt, length, val, n)\n",
        "print(\"Maximum Value:\", max_value)\n",
        "print(\"Total length:\", total_length)\n",
        "\n",
        "print(\"\\nMemoization\")\n",
        "max_value, total_length = mem_knapSack(wt, val, length, w, n)\n",
        "print(\"Maximum Value:\", max_value)\n",
        "print(\"Total length:\", total_length)\n"
      ]
    },
    {
      "cell_type": "markdown",
      "id": "d97e864e",
      "metadata": {
        "id": "d97e864e"
      },
      "source": [
        "Fibonacci Numbers"
      ]
    },
    {
      "cell_type": "code",
      "source": [
        "def FibTab(Num):\n",
        "    if Num == 0:\n",
        "        return 0\n",
        "    elif Num == 1:\n",
        "        return 1\n",
        "    else:\n",
        "        return FibTab(Num-1) + FibTab(Num-2)\n",
        "\n",
        "print(FibTab(6))"
      ],
      "metadata": {
        "id": "HoqkUdvj_2ZZ",
        "colab": {
          "base_uri": "https://localhost:8080/"
        },
        "outputId": "f8b79d0a-487c-4694-be8c-56b4be24ab8b"
      },
      "id": "HoqkUdvj_2ZZ",
      "execution_count": 48,
      "outputs": [
        {
          "output_type": "stream",
          "name": "stdout",
          "text": [
            "8\n"
          ]
        }
      ]
    },
    {
      "cell_type": "markdown",
      "id": "f44e88aa",
      "metadata": {
        "id": "f44e88aa"
      },
      "source": [
        "Task 2: Create a sample program that find the nth number of Fibonacci Series using Dynamic Programming"
      ]
    },
    {
      "cell_type": "code",
      "execution_count": 46,
      "id": "745871be",
      "metadata": {
        "id": "745871be",
        "colab": {
          "base_uri": "https://localhost:8080/"
        },
        "outputId": "babbfcc0-362f-47dc-fc74-71eb5f9a5a60"
      },
      "outputs": [
        {
          "output_type": "stream",
          "name": "stdout",
          "text": [
            "[0, 1, 1, 2, 3, 5, 8]\n"
          ]
        }
      ],
      "source": [
        "def FibTab(Num):\n",
        "    val = [0, 1]\n",
        "    for i in range (2, Num+1):\n",
        "        val.append(val[i-2] + val[i-1])\n",
        "    return val\n",
        "\n",
        "print(FibTab(6))"
      ]
    },
    {
      "cell_type": "markdown",
      "id": "070ddd75",
      "metadata": {
        "id": "070ddd75"
      },
      "source": [
        "## Supplementary Problem (HOA 2.1 Submission):\n",
        "* Choose a real-life problem\n",
        "* Use recursion and dynamic programming to solve the problem"
      ]
    },
    {
      "cell_type": "code",
      "execution_count": 29,
      "id": "86eef507",
      "metadata": {
        "id": "86eef507",
        "colab": {
          "base_uri": "https://localhost:8080/"
        },
        "outputId": "5fdac49c-9f2e-49fc-a771-e7479b5115f6"
      },
      "outputs": [
        {
          "output_type": "stream",
          "name": "stdout",
          "text": [
            "Maximum price of crops to be sold at 60 hectares is 540\n",
            "Crops to plant:  ['Wheat', 'Corn', 'Onion']\n"
          ]
        }
      ],
      "source": [
        "#Real-life problem\n",
        "'''A farmer is choosing a which crop to plant in his F hectares of field.\n",
        "He has wheat seeds that could cover W hectares, rice seeds that could cover R hectares, corn seeds that could cover C hectares of land,\n",
        "and onions that could cover O hectares. In a single hectare he could sell wheat for Wp, rice for Rp, corns for Cp, and onions for Op.'''\n",
        "#type your code here for recursion programming solution\n",
        "class FarmerCrop():\n",
        "    def __init__(self, name, price, hectare):\n",
        "        self.name = name\n",
        "        self.price = price\n",
        "        self.hectare = hectare\n",
        "\n",
        "    def getHectare(self):\n",
        "        return self.hectare\n",
        "\n",
        "    def getPrice(self):\n",
        "        return self.price\n",
        "\n",
        "def farmer(SL, F, n):\n",
        "    if n == 0 or F == 0:\n",
        "        return 0, []\n",
        "\n",
        "    if SL[n-1].getHectare() > F:\n",
        "        return farmer(SL, F, n-1)\n",
        "    take_profit, take_crops = farmer(SL, F - SL[n-1].getHectare(), n-1)\n",
        "    take_profit += SL[n-1].getPrice()\n",
        "    take_crops.append(SL[n-1].name)\n",
        "    dont_take_profit, dont_take_crops = farmer(SL, F, n-1)\n",
        "\n",
        "    if take_profit > dont_take_profit:\n",
        "        return take_profit, take_crops\n",
        "    else:\n",
        "        return dont_take_profit, dont_take_crops"
      ]
    },
    {
      "cell_type": "code",
      "execution_count": 30,
      "id": "73b071b6",
      "metadata": {
        "id": "73b071b6",
        "colab": {
          "base_uri": "https://localhost:8080/"
        },
        "outputId": "e77e4f0a-2664-4ab0-ac40-222e6f5ceb59"
      },
      "outputs": [
        {
          "output_type": "stream",
          "name": "stdout",
          "text": [
            "Maximum Profit: 540\n",
            "Crops to Plant:  ['Onion', 'Corn', 'Wheat']\n"
          ]
        }
      ],
      "source": [
        "#type your code here for dynamic programming solution\n",
        "def farmProb(SL, F, n):\n",
        "    table = [[0 for _ in range(F+1)] for _ in range(n+1)]\n",
        "\n",
        "    for i in range(1, n+1):\n",
        "        for j in range(F+1):\n",
        "            if SL[i-1].getHectare() <= j:\n",
        "                table[i][j] = max(\n",
        "                    SL[i-1].getPrice() + table[i-1][j - SL[i-1].getHectare()],\n",
        "                    table[i-1][j]\n",
        "                )\n",
        "            else:\n",
        "                table[i][j] = table[i-1][j]\n",
        "\n",
        "    selected_crops = []\n",
        "    total_profit = table[n][F]\n",
        "    remaining_hectares = F\n",
        "\n",
        "    for i in range(n, 0, -1):\n",
        "        if table[i][remaining_hectares] != table[i-1][remaining_hectares]:\n",
        "            selected_crops.append(SL[i-1].name)\n",
        "            remaining_hectares -= SL[i-1].getHectare()\n",
        "\n",
        "    return total_profit, selected_crops"
      ]
    },
    {
      "cell_type": "code",
      "source": [
        "#Functions testing\n",
        "W = FarmerCrop('Wheat', 120, 10)\n",
        "R = FarmerCrop('Rice', 200, 40)\n",
        "C = FarmerCrop('Corn', 240, 20)\n",
        "O = FarmerCrop('Onion', 180, 30)\n",
        "\n",
        "seedList = [W, R, C, O]\n",
        "n = len(seedList)\n",
        "F = 60\n",
        "\n",
        "\n",
        "max_profit, selected_crops = farmer(seedList, F, n)\n",
        "print('Recursion Solution')\n",
        "print(\"\\tMaximum price of crops to be sold at\", F,  \"hectares is\", max_profit)\n",
        "print(\"\\tCrops to plant: \", selected_crops)\n",
        "\n",
        "print('\\nDynamic Programming Solution')\n",
        "max_profit, selected_crops = farmProb(seedList, F, n)\n",
        "print(\"\\tMaximum Profit:\" ,max_profit)\n",
        "print(\"\\tCrops to Plant: \", selected_crops)"
      ],
      "metadata": {
        "colab": {
          "base_uri": "https://localhost:8080/"
        },
        "id": "3b2BnY0mC2x5",
        "outputId": "fd8d32aa-580f-44a0-831e-2dcea02fdd22"
      },
      "id": "3b2BnY0mC2x5",
      "execution_count": 33,
      "outputs": [
        {
          "output_type": "stream",
          "name": "stdout",
          "text": [
            "Recurtion Solution\n",
            "\tMaximum price of crops to be sold at 60 hectares is 540\n",
            "\tCrops to plant:  ['Wheat', 'Corn', 'Onion']\n",
            "\n",
            "Dynamic Programming Solution\n",
            "\tMaximum Profit: 540\n",
            "\tCrops to Plant:  ['Onion', 'Corn', 'Wheat']\n"
          ]
        }
      ]
    },
    {
      "cell_type": "markdown",
      "id": "bb0ed6a9",
      "metadata": {
        "id": "bb0ed6a9"
      },
      "source": [
        "#### Conclusion"
      ]
    },
    {
      "cell_type": "code",
      "execution_count": 7,
      "id": "9627d18c",
      "metadata": {
        "id": "9627d18c"
      },
      "outputs": [],
      "source": [
        "'''In conclusion I've learned that recursion is like looping, through calling itself with a function.\n",
        "While dynamic programming loops to store the solved combinations to avoid recomputing.\n",
        "And at last I've also learned about memonitization which from my understanding is like a mix of both methods, which while iterating you also store the combnaions in a list to avoid recomputation.'''"
      ]
    }
  ],
  "metadata": {
    "kernelspec": {
      "display_name": "Python 3",
      "language": "python",
      "name": "python3"
    },
    "language_info": {
      "codemirror_mode": {
        "name": "ipython",
        "version": 3
      },
      "file_extension": ".py",
      "mimetype": "text/x-python",
      "name": "python",
      "nbconvert_exporter": "python",
      "pygments_lexer": "ipython3",
      "version": "3.7.10"
    },
    "colab": {
      "provenance": []
    }
  },
  "nbformat": 4,
  "nbformat_minor": 5
}