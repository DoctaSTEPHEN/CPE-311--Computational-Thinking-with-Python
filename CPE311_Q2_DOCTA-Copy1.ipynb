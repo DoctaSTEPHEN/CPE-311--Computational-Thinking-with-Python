{
 "cells": [
  {
   "cell_type": "code",
   "execution_count": 39,
   "id": "a227c7ff-51a0-4ab6-8d07-9dfe78740749",
   "metadata": {},
   "outputs": [],
   "source": [
    "def subsequence(n, size, table = []):\n",
    "    sub = 1\n",
    "    row = []\n",
    "    for i in range(size):\n",
    "        if size == 0:\n",
    "            return table\n",
    "        elif n[i]-1 == n[i+1] or n[i]+1 == n[i+1] and i !=size-1:\n",
    "            size = size - 1\n",
    "            row.append(n[i])\n",
    "            sub+=1\n",
    "        elif n[i]-1 != n[i+1] or n[i]+1 != n[i+1]: \n",
    "            row.append(n[i])\n",
    "            n.remove(n[i])\n",
    "            table.append(row)\n",
    "            return subsequence(n, size-sub, table)\n"
   ]
  },
  {
   "cell_type": "code",
   "execution_count": 40,
   "id": "b53fa1ac-00a4-4732-9f32-f11d8664a4ee",
   "metadata": {},
   "outputs": [],
   "source": [
    "n = [1,2,3,4,11,12,13,14,15]\n",
    "size = len(n)\n",
    "table = []"
   ]
  },
  {
   "cell_type": "code",
   "execution_count": 42,
   "id": "da8ef724-2d55-4f5c-8d1b-f75d3c9fb7d8",
   "metadata": {},
   "outputs": [
    {
     "ename": "AttributeError",
     "evalue": "'NoneType' object has no attribute 'append'",
     "output_type": "error",
     "traceback": [
      "\u001b[1;31m---------------------------------------------------------------------------\u001b[0m",
      "\u001b[1;31mAttributeError\u001b[0m                            Traceback (most recent call last)",
      "Cell \u001b[1;32mIn[42], line 1\u001b[0m\n\u001b[1;32m----> 1\u001b[0m table \u001b[38;5;241m=\u001b[39m subsequence(n, size, table)\n\u001b[0;32m      2\u001b[0m \u001b[38;5;28mprint\u001b[39m(\u001b[38;5;28mtype\u001b[39m(table))\n\u001b[0;32m      3\u001b[0m \u001b[38;5;28;01mfor\u001b[39;00m i \u001b[38;5;129;01min\u001b[39;00m \u001b[38;5;28mrange\u001b[39m(\u001b[38;5;28mlen\u001b[39m(table)):\n",
      "Cell \u001b[1;32mIn[39], line 14\u001b[0m, in \u001b[0;36msubsequence\u001b[1;34m(n, size, table)\u001b[0m\n\u001b[0;32m     12\u001b[0m row\u001b[38;5;241m.\u001b[39mappend(n[i])\n\u001b[0;32m     13\u001b[0m n\u001b[38;5;241m.\u001b[39mremove(n[i])\n\u001b[1;32m---> 14\u001b[0m table\u001b[38;5;241m.\u001b[39mappend(row)\n\u001b[0;32m     15\u001b[0m \u001b[38;5;28;01mreturn\u001b[39;00m subsequence(n, size\u001b[38;5;241m-\u001b[39msub, table)\n",
      "\u001b[1;31mAttributeError\u001b[0m: 'NoneType' object has no attribute 'append'"
     ]
    }
   ],
   "source": [
    "table = subsequence(n, size, table)\n",
    "print(type(table))\n",
    "for i in range(len(table)):\n",
    "    print(\"\\n\")\n",
    "    for j in range(len(table[i])):\n",
    "        print(table[i][j])\n",
    "\n",
    "print(\"OK\")"
   ]
  }
 ],
 "metadata": {
  "kernelspec": {
   "display_name": "Python 3 (ipykernel)",
   "language": "python",
   "name": "python3"
  },
  "language_info": {
   "codemirror_mode": {
    "name": "ipython",
    "version": 3
   },
   "file_extension": ".py",
   "mimetype": "text/x-python",
   "name": "python",
   "nbconvert_exporter": "python",
   "pygments_lexer": "ipython3",
   "version": "3.12.4"
  }
 },
 "nbformat": 4,
 "nbformat_minor": 5
}
