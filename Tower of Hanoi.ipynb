{
  "nbformat": 4,
  "nbformat_minor": 0,
  "metadata": {
    "colab": {
      "provenance": []
    },
    "kernelspec": {
      "name": "python3",
      "display_name": "Python 3"
    },
    "language_info": {
      "name": "python"
    }
  },
  "cells": [
    {
      "cell_type": "code",
      "source": [
        "def move(disk, source, auxilary, destination):\n",
        "\n",
        "    if disk == 1:  # Base case: If only one disk, move it directly\n",
        "        destination.append(source.pop())\n",
        "        print(source, auxilary, destination)\n",
        "        return\n",
        "\n",
        "    # Move (disk - 1) disks from source to auxiliary peg using destination as auxiliary\n",
        "    move(disk - 1, source, destination, auxilary)\n",
        "\n",
        "    # Move the largest disk (disk) from source to destination peg\n",
        "    destination.append(source.pop())\n",
        "    print(source, auxilary, destination)\n",
        "\n",
        "    # Move (disk - 1) disks from auxiliary to destination peg using source as auxiliary\n",
        "    move(disk - 1, auxilary, source, destination)\n",
        "\n",
        "def hanoi():\n",
        "    \"\"\"Initiates the Tower of Hanoi puzzle solving.\"\"\"\n",
        "    source = [4, 3, 2, 1]\n",
        "    auxilary = []\n",
        "    destination = []\n",
        "    disk = len(source)\n",
        "    move(disk, source, auxilary, destination)  # Start the puzzle-solving process\n",
        "    print(\"Puzzle solved!\")\n",
        "\n",
        "hanoi()"
      ],
      "metadata": {
        "colab": {
          "base_uri": "https://localhost:8080/"
        },
        "id": "gYBEqgRc9yBP",
        "outputId": "c151bc19-56d9-4b34-e737-f0f3059d9b6c"
      },
      "execution_count": 58,
      "outputs": [
        {
          "output_type": "stream",
          "name": "stdout",
          "text": [
            "[4, 3, 2] [] [1]\n",
            "[4, 3] [1] [2]\n",
            "[] [4, 3] [2, 1]\n",
            "[4] [2, 1] [3]\n",
            "[2] [3] [4, 1]\n",
            "[] [4, 1] [3, 2]\n",
            "[4] [] [3, 2, 1]\n",
            "[] [3, 2, 1] [4]\n",
            "[3, 2] [] [4, 1]\n",
            "[3] [4, 1] [2]\n",
            "[4] [3] [2, 1]\n",
            "[] [2, 1] [4, 3]\n",
            "[2] [4, 3] [1]\n",
            "[] [1] [4, 3, 2]\n",
            "[] [] [4, 3, 2, 1]\n",
            "Puzzle solved!\n"
          ]
        }
      ]
    }
  ]
}