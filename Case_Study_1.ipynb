{
  "nbformat": 4,
  "nbformat_minor": 0,
  "metadata": {
    "colab": {
      "provenance": []
    },
    "kernelspec": {
      "name": "python3",
      "display_name": "Python 3"
    },
    "language_info": {
      "name": "python"
    }
  },
  "cells": [
    {
      "cell_type": "code",
      "execution_count": 1,
      "metadata": {
        "id": "a48gDRwfbIWQ"
      },
      "outputs": [],
      "source": [
        "class FarmerCrop():\n",
        "    def __init__(self, name, price, hectare):\n",
        "        self.name = name\n",
        "        self.price = price\n",
        "        self.hectare = hectare\n",
        "\n",
        "    def getHectare(self):\n",
        "        return self.hectare\n",
        "\n",
        "    def getPrice(self):\n",
        "        return self.price\n",
        "\n",
        "def farmProb(SL, F, n):\n",
        "    table = [[0 for _ in range(F+1)] for _ in range(n+1)]\n",
        "\n",
        "    for i in range(1, n+1):\n",
        "        for j in range(F+1):\n",
        "            if SL[i-1].getHectare() <= j:\n",
        "                table[i][j] = max(\n",
        "                    (SL[i-1].getPrice() * SL[i-1].getHectare()) + table[i-1][j - SL[i-1].getHectare()],\n",
        "                    table[i-1][j]\n",
        "                )\n",
        "            else:\n",
        "                table[i][j] = table[i-1][j]\n",
        "\n",
        "    selected_crops = []\n",
        "    total_profit = table[n][F]\n",
        "    remaining_hectares = F\n",
        "\n",
        "    for i in range(n, 0, -1):\n",
        "        if table[i][remaining_hectares] != table[i-1][remaining_hectares]:\n",
        "            selected_crops.append(SL[i-1].name)\n",
        "            remaining_hectares -= SL[i-1].getHectare()\n",
        "\n",
        "    return total_profit, selected_crops\n",
        "\n"
      ]
    },
    {
      "cell_type": "code",
      "source": [
        "W = FarmerCrop('Wheat', 120, 10)\n",
        "R = FarmerCrop('Rice', 200, 40)\n",
        "C = FarmerCrop('Corn', 240, 20)\n",
        "O = FarmerCrop('Onion', 180, 30)\n",
        "\n",
        "\n",
        "seedList = [W, R, C, O]\n",
        "n = len(seedList)\n",
        "F = 50\n",
        "\n",
        "print('\\nDynamic Programming Solution')\n",
        "max_profit, selected_crops = farmProb(seedList, F, n)\n",
        "print(\"\\tMaximum Profit:\" ,max_profit)\n",
        "print(\"\\tCrops to Plant: \", selected_crops)"
      ],
      "metadata": {
        "colab": {
          "base_uri": "https://localhost:8080/"
        },
        "id": "c06ixtalba_z",
        "outputId": "1adaee37-f423-4912-e937-7ef472f95b62"
      },
      "execution_count": 2,
      "outputs": [
        {
          "output_type": "stream",
          "name": "stdout",
          "text": [
            "\n",
            "Dynamic Programming Solution\n",
            "\tMaximum Profit: 10200\n",
            "\tCrops to Plant:  ['Onion', 'Corn']\n"
          ]
        }
      ]
    }
  ]
}